{
 "cells": [
  {
   "cell_type": "markdown",
   "metadata": {},
   "source": [
    "# Naive Bayes - Weka vs Python\n",
    "\n",
    "Este _notebook_ tem como objetivo testar o algoritmo Naive Bayes do Weka versus uma implementação feita em Python. Para este teste, foi escolhida a base com dados de Diabetes (`diabetes.arff`) disponibilizada pelo próprio Weka, em sua pasta de instalação (no meu caso, `C:\\Program Files\\Weka-3.8\\data\\diabetes.arff`)."
   ]
  },
  {
   "cell_type": "markdown",
   "metadata": {},
   "source": [
    "### Weka\n",
    "\n",
    "A fim de testar o algoritmo no Weka:\n",
    "\n",
    "- Primeiro foi realizado o download do software [neste link](https://www.cs.waikato.ac.nz/~ml/weka/downloading.html) e concluída sua instalação.\n",
    "- Em seguida, a base em questão foi escolhida, assim como o classificador `NaiveBayes` na aba **_Classify_**\n",
    "- Foi iniciada a análise, clicando-se no botão `Start`, obtendo-se o seguinte resultado:"
   ]
  },
  {
   "cell_type": "markdown",
   "metadata": {},
   "source": [
    "![Resultado do Weka](weka-result.png)"
   ]
  },
  {
   "cell_type": "markdown",
   "metadata": {},
   "source": [
    "Portanto, a seguinte acurácia foi obtida:\n",
    "\n",
    "| Acurácia | Erro |\n",
    "|------|-----|\n",
    "| 76.3021 % | 23.6979 % |\n"
   ]
  },
  {
   "cell_type": "markdown",
   "metadata": {},
   "source": [
    "### Python\n",
    "\n",
    "Para implementar "
   ]
  },
  {
   "cell_type": "code",
   "execution_count": 115,
   "metadata": {},
   "outputs": [],
   "source": [
    "from sklearn.model_selection import train_test_split\n",
    "from sklearn.naive_bayes import GaussianNB, MultinomialNB\n",
    "from sklearn.metrics import accuracy_score\n",
    "import numpy as np\n",
    "import random\n",
    "\n",
    "%matplotlib inline"
   ]
  },
  {
   "cell_type": "code",
   "execution_count": 104,
   "metadata": {},
   "outputs": [],
   "source": [
    "def read_data(filename: str = ''):\n",
    "    \"\"\"\n",
    "    Read data from file\n",
    "    \n",
    "    Parameters:\n",
    "        - filename: file name to read data from\n",
    "    \n",
    "    Returns:\n",
    "        - numpy array containing dataset\n",
    "    \"\"\"\n",
    "    dataset, labels = [], []\n",
    "    \n",
    "    # Read file\n",
    "    text = open(filename, 'r').readlines()\n",
    "    \n",
    "    # Iterate over lines\n",
    "    for line in text:\n",
    "        # Remove '\\n' and split data\n",
    "        fields = line.replace('\\n', '').split(';')\n",
    "        dataset.append([float(x) for x in fields[:-1]])\n",
    "        \n",
    "        # Last field is the output class\n",
    "        labels.append(fields[-1])            \n",
    "    \n",
    "    return np.array(dataset), np.array(labels)"
   ]
  },
  {
   "cell_type": "markdown",
   "metadata": {},
   "source": [
    "### Lendo os dados\n",
    "\n",
    "Primeiro, lê-se os dados da base do Weka, removendo-se os dados indesejados e tratando-os com a função `read_data()`"
   ]
  },
  {
   "cell_type": "code",
   "execution_count": 157,
   "metadata": {},
   "outputs": [],
   "source": [
    "dataset, labels = read_data('data.csv')"
   ]
  },
  {
   "cell_type": "markdown",
   "metadata": {},
   "source": [
    "###  Divisão dos dados\n",
    "\n",
    "A função `train_test_split()` do `sklearn` divide o _dataset_ em uma parte de teste e outra de treino de acordo com o parâmetro `test_size` passado."
   ]
  },
  {
   "cell_type": "code",
   "execution_count": 158,
   "metadata": {},
   "outputs": [],
   "source": [
    "data_train, data_test, labels_train, labels_test = train_test_split(dataset, labels, test_size=0.20, random_state=50)"
   ]
  },
  {
   "cell_type": "markdown",
   "metadata": {},
   "source": [
    "### Treinamento do Classificador\n",
    "\n",
    "Os passos abaixo criam um Classificador Gaussiano de Naive Bayes e o treinam com os dados de teste. Com isso, a acurácia é calculada, chamando a função `accuracy_score` do _sklearn_."
   ]
  },
  {
   "cell_type": "code",
   "execution_count": 159,
   "metadata": {},
   "outputs": [
    {
     "data": {
      "text/plain": [
       "0.7591145833333334"
      ]
     },
     "execution_count": 159,
     "metadata": {},
     "output_type": "execute_result"
    }
   ],
   "source": [
    "# Cria um classificador Gaussiano\n",
    "model = GaussianNB().fit(data_train, labels_train)\n",
    "\n",
    "# Resultado de previsão \n",
    "predicted = model.predict(dataset)\n",
    "\n",
    "# Calcula a acurácia do modelo\n",
    "accuracy_score(labels, predicted)"
   ]
  },
  {
   "cell_type": "markdown",
   "metadata": {},
   "source": [
    "### Comparativo\n",
    "\n",
    "A acurácia do teste com o Weka se mostrou um pouco superior ao teste feito com a biblioteca *sklearn* do Python. Abaixo se encontra o demonstrativo:\n",
    "\n",
    "| Weka | Python | Diferença |\n",
    "|-----|-----|-----|\n",
    "| 76.30 % | 75.91 % | 0.39% |"
   ]
  },
  {
   "cell_type": "code",
   "execution_count": null,
   "metadata": {},
   "outputs": [],
   "source": []
  }
 ],
 "metadata": {
  "kernelspec": {
   "display_name": "Python 3",
   "language": "python",
   "name": "python3"
  },
  "language_info": {
   "codemirror_mode": {
    "name": "ipython",
    "version": 3
   },
   "file_extension": ".py",
   "mimetype": "text/x-python",
   "name": "python",
   "nbconvert_exporter": "python",
   "pygments_lexer": "ipython3",
   "version": "3.7.1"
  }
 },
 "nbformat": 4,
 "nbformat_minor": 2
}
